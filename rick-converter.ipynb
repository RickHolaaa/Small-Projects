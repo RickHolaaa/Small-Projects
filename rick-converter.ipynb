{
 "cells": [
  {
   "cell_type": "markdown",
   "id": "6c86da83",
   "metadata": {},
   "source": [
    "# Create an interactive converter thanks to pygame"
   ]
  },
  {
   "cell_type": "markdown",
   "id": "c46d2e71",
   "metadata": {},
   "source": [
    "## Librairies"
   ]
  },
  {
   "cell_type": "code",
   "execution_count": null,
   "id": "588541d8",
   "metadata": {},
   "outputs": [],
   "source": [
    "import pygame"
   ]
  },
  {
   "cell_type": "markdown",
   "id": "d27deb83",
   "metadata": {},
   "source": [
    "## Code"
   ]
  },
  {
   "cell_type": "code",
   "execution_count": 5,
   "id": "df47aff1",
   "metadata": {},
   "outputs": [],
   "source": [
    "def launch():\n",
    "    pygame.init()\n",
    "    width = 1280\n",
    "    height = 720\n",
    "\n",
    "    size = (width,height)\n",
    "    font = pygame.font.SysFont(\"Arial\", 30,bold=True)\n",
    "    flag = pygame.RESIZABLE  #pygame.OPENGL | pygame.FULLSCREEN | pygame.RESIZABLE | pygame.NOFRAME\n",
    "    self = pygame.display.set_mode(size,flags=flag)\n",
    "    self.fill(\"white\")\n",
    "    pygame.display.set_caption(\"Interactive converter made with Pygame\")\n",
    "    pygame.display.flip()\n",
    "\n",
    "\n",
    "    running = True\n",
    "    while running:\n",
    "        self.fill(\"white\")\n",
    "        # Welcome text\n",
    "        trxt = font.render(\"Welcome to the interactive converter !\",True,(0,0,0))\n",
    "        x,y = pygame.display.get_surface().get_size()\n",
    "        font = pygame.font.SysFont(\"Arial\", x//50,bold=True)\n",
    "        text_rect = trxt.get_rect(center=(x/2,y/5))\n",
    "        self.blit(trxt,text_rect)\n",
    "        #\n",
    "        # Create a input text box\n",
    "        tect = pygame.Rect(x/2-x/6,y/3,x/3,y/3)\n",
    "        input_box = pygame.draw.rect(self,\"blue\",tect)\n",
    "        input_text1 = font.render(\"Input box\",True,\"white\")\n",
    "        self.blit(input_text1,(x/2-x/20,y/3+y/80))\n",
    "\n",
    "        # Actualize window\n",
    "        pygame.display.flip()\n",
    "        #\n",
    "        # Quit event\n",
    "        for event in pygame.event.get():\n",
    "            if event.type == pygame.QUIT:\n",
    "                pygame.quit()\n",
    "                running = False\n",
    "        #\n",
    "    print(0)"
   ]
  },
  {
   "cell_type": "markdown",
   "id": "47b2c791",
   "metadata": {},
   "source": [
    "## Launching"
   ]
  },
  {
   "cell_type": "code",
   "execution_count": 6,
   "id": "0aaad924",
   "metadata": {},
   "outputs": [
    {
     "name": "stdout",
     "output_type": "stream",
     "text": [
      "0\n"
     ]
    }
   ],
   "source": [
    "launch()"
   ]
  },
  {
   "cell_type": "code",
   "execution_count": null,
   "id": "5bec1133",
   "metadata": {},
   "outputs": [],
   "source": []
  },
  {
   "cell_type": "code",
   "execution_count": null,
   "id": "91bfd340",
   "metadata": {},
   "outputs": [],
   "source": []
  },
  {
   "cell_type": "code",
   "execution_count": null,
   "id": "72e10d6c",
   "metadata": {},
   "outputs": [],
   "source": []
  }
 ],
 "metadata": {
  "interpreter": {
   "hash": "aee8b7b246df8f9039afb4144a1f6fd8d2ca17a180786b69acc140d282b71a49"
  },
  "kernelspec": {
   "display_name": "Python 3.10.2 64-bit",
   "language": "python",
   "name": "python3"
  },
  "language_info": {
   "codemirror_mode": {
    "name": "ipython",
    "version": 3
   },
   "file_extension": ".py",
   "mimetype": "text/x-python",
   "name": "python",
   "nbconvert_exporter": "python",
   "pygments_lexer": "ipython3",
   "version": "3.10.2"
  }
 },
 "nbformat": 4,
 "nbformat_minor": 5
}
