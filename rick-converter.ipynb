{
 "cells": [
  {
   "cell_type": "markdown",
   "id": "6c86da83",
   "metadata": {},
   "source": [
    "# Create an interactive converter thanks to pygame"
   ]
  },
  {
   "cell_type": "markdown",
   "id": "c46d2e71",
   "metadata": {},
   "source": [
    "## Librairies"
   ]
  },
  {
   "cell_type": "code",
   "execution_count": 1,
   "id": "588541d8",
   "metadata": {},
   "outputs": [
    {
     "name": "stdout",
     "output_type": "stream",
     "text": [
      "pygame 2.1.2 (SDL 2.0.18, Python 3.10.2)\n",
      "Hello from the pygame community. https://www.pygame.org/contribute.html\n"
     ]
    }
   ],
   "source": [
    "import pygame"
   ]
  },
  {
   "cell_type": "markdown",
   "id": "d27deb83",
   "metadata": {},
   "source": [
    "## Code"
   ]
  },
  {
   "cell_type": "code",
   "execution_count": 24,
   "id": "df47aff1",
   "metadata": {},
   "outputs": [],
   "source": [
    "def launch():\n",
    "    self = pygame.display.set_mode((2000,1000))\n",
    "    pygame.display.flip()\n",
    "    running = True\n",
    "    while running:\n",
    "        pygame.display.flip()\n",
    "        for event in pygame.event.get():\n",
    "            if event.type == pygame.QUIT:\n",
    "                pygame.quit()\n",
    "                running = False\n",
    "    print(0)"
   ]
  },
  {
   "cell_type": "markdown",
   "id": "47b2c791",
   "metadata": {},
   "source": [
    "## Launching"
   ]
  },
  {
   "cell_type": "code",
   "execution_count": 23,
   "id": "0aaad924",
   "metadata": {},
   "outputs": [
    {
     "name": "stdout",
     "output_type": "stream",
     "text": [
      "0\n"
     ]
    }
   ],
   "source": [
    "launch()"
   ]
  },
  {
   "cell_type": "code",
   "execution_count": null,
   "id": "5bec1133",
   "metadata": {},
   "outputs": [],
   "source": []
  },
  {
   "cell_type": "code",
   "execution_count": null,
   "id": "91bfd340",
   "metadata": {},
   "outputs": [],
   "source": []
  }
 ],
 "metadata": {
  "kernelspec": {
   "display_name": "Python 3 (ipykernel)",
   "language": "python",
   "name": "python3"
  },
  "language_info": {
   "codemirror_mode": {
    "name": "ipython",
    "version": 3
   },
   "file_extension": ".py",
   "mimetype": "text/x-python",
   "name": "python",
   "nbconvert_exporter": "python",
   "pygments_lexer": "ipython3",
   "version": "3.10.2"
  }
 },
 "nbformat": 4,
 "nbformat_minor": 5
}
